{
 "cells": [
  {
   "cell_type": "markdown",
   "metadata": {},
   "source": [
    "Importing the basic libraries for preprocessing..."
   ]
  },
  {
   "cell_type": "code",
   "execution_count": 1,
   "metadata": {},
   "outputs": [
    {
     "name": "stderr",
     "output_type": "stream",
     "text": [
      "C:\\Users\\nidhi1\\Anaconda3\\lib\\site-packages\\gensim\\utils.py:862: UserWarning: detected Windows; aliasing chunkize to chunkize_serial\n",
      "  warnings.warn(\"detected Windows; aliasing chunkize to chunkize_serial\")\n",
      "Using TensorFlow backend.\n"
     ]
    }
   ],
   "source": [
    "import numpy as np\n",
    "import os\n",
    "import re\n",
    "#from math import *\n",
    "from numpy.linalg import norm\n",
    "import gensim\n",
    "from gensim.models import Word2Vec"
   ]
  },
  {
   "cell_type": "markdown",
   "metadata": {},
   "source": [
    "Setting up NN MODEL constants..."
   ]
  },
  {
   "cell_type": "code",
   "execution_count": 5,
   "metadata": {
    "collapsed": true
   },
   "outputs": [],
   "source": [
    "EMBEDDING_DIM = 100\n",
    "BATCH_SIZE = 25\n",
    "MAX_SENTENCE_LENGTH = 60"
   ]
  },
  {
   "cell_type": "markdown",
   "metadata": {},
   "source": [
    "Reading the Input text file containing OS notes for training Word2vec model"
   ]
  },
  {
   "cell_type": "code",
   "execution_count": 10,
   "metadata": {},
   "outputs": [
    {
     "name": "stdout",
     "output_type": "stream",
     "text": [
      "An operating system is a program that manages the computer hardware.\n",
      "\n",
      "['an', 'operating', 'system', 'is', 'program', 'that', 'manages', 'the', 'computer', 'hardware']\n",
      "It also provides a basis for application programs and acts as an intermediary between the computer user and the computer hardware.\n",
      "\n",
      "['it', 'also', 'provides', 'basis', 'for', 'application', 'programs', 'and', 'acts', 'as', 'an', 'intermediary', 'between', 'the', 'computer', 'user', 'and', 'the', 'computer', 'hardware']\n",
      "There are two Operating system goals Execute user programs and make solving user problems easier.\n",
      "\n",
      "['there', 'are', 'two', 'operating', 'system', 'goals', 'execute', 'user', 'programs', 'and', 'make', 'solving', 'user', 'problems', 'easier']\n",
      "An operating system Make the computer system convenient to use.\n",
      "\n",
      "['an', 'operating', 'system', 'make', 'the', 'computer', 'system', 'convenient', 'to', 'use']\n",
      "It handles multiple computer resources such as CPU, Internal/External memory, Processes, Tasks, Applications, Users, etc…\n",
      "\n",
      "['it', 'handles', 'multiple', 'computer', 'resources', 'such', 'as', 'cpu', 'internal', 'external', 'memory', 'processes', 'tasks', 'applications', 'users', 'etc']\n",
      "Operating system manages and allocates resources to multiple users or multiple jobs running at the same time processor time, memory space, Input Output devices.\n",
      "\n",
      "['operating', 'system', 'manages', 'and', 'allocates', 'resources', 'to', 'multiple', 'users', 'or', 'multiple', 'jobs', 'running', 'at', 'the', 'same', 'time', 'processor', 'time', 'memory', 'space', 'input', 'output', 'devices']\n",
      "Arranges to use the computer hardware in an efficient manner maximize throughput, minimize response time and in a fair manner\n",
      "\n",
      "['arranges', 'to', 'use', 'the', 'computer', 'hardware', 'in', 'an', 'efficient', 'manner', 'maximize', 'throughput', 'minimize', 'response', 'time', 'and', 'in', 'fair', 'manner']\n",
      "Operting system helps to use the computer hardware in an efficient manner.\n",
      "\n",
      "['operting', 'system', 'helps', 'to', 'use', 'the', 'computer', 'hardware', 'in', 'an', 'efficient', 'manner']\n",
      "It manages all the components of a complex computer system in an integrated manner.\n",
      "\n",
      "['it', 'manages', 'all', 'the', 'components', 'of', 'complex', 'computer', 'system', 'in', 'an', 'integrated', 'manner']\n",
      "Controls the execution of user programs and I/O devices to prevent errors and improper use of the computer resources.\n",
      "\n",
      "['controls', 'the', 'execution', 'of', 'user', 'programs', 'and', 'devices', 'to', 'prevent', 'errors', 'and', 'improper', 'use', 'of', 'the', 'computer', 'resources']\n",
      "Operting system controls and coordinates the use of the hardware among the various application programs for the various users.\n",
      "\n",
      "['operting', 'system', 'controls', 'and', 'coordinates', 'the', 'use', 'of', 'the', 'hardware', 'among', 'the', 'various', 'application', 'programs', 'for', 'the', 'various', 'users']\n",
      "Operting system acts as resource allocator, control program and as the kernel.\n",
      "\n",
      "['operting', 'system', 'acts', 'as', 'resource', 'allocator', 'control', 'program', 'and', 'as', 'the', 'kernel']\n",
      "Kernel is the one program running at all times (all else being application programs).\n",
      "\n",
      "['kernel', 'is', 'the', 'one', 'program', 'running', 'at', 'all', 'times', 'all', 'else', 'being', 'application', 'programs']\n",
      "Operting system controls the execution of user programs and operations of I/O devices.\n",
      "\n",
      "['operting', 'system', 'controls', 'the', 'execution', 'of', 'user', 'programs', 'and', 'operations', 'of', 'devices']\n",
      "An operating system makes a computer more convenient to use.\n",
      "\n",
      "['an', 'operating', 'system', 'makes', 'computer', 'more', 'convenient', 'to', 'use']\n",
      "It acts as an interface between user and computer hardware. Therefore, the end-users are not particularly concerned with the computer’s architecture, and they view the computer system in terms of an application.\n",
      "\n",
      "['it', 'acts', 'as', 'an', 'interface', 'between', 'user', 'and', 'computer', 'hardware', 'therefore', 'the', 'end', 'users', 'are', 'not', 'particularly', 'concerned', 'with', 'the', 'computer', 'architecture', 'and', 'they', 'view', 'the', 'computer', 'system', 'in', 'terms', 'of', 'an', 'application']\n",
      "To programmers, it provides some basic utilities to assist him in creating programs, the management of files, and the control of I/O devices.\n",
      "\n",
      "['to', 'programmers', 'it', 'provides', 'some', 'basic', 'utilities', 'to', 'assist', 'him', 'in', 'creating', 'programs', 'the', 'management', 'of', 'files', 'and', 'the', 'control', 'of', 'devices']\n",
      "Operating System objectives are convenience, efficiency and ability to evolve.\n",
      "\n",
      "['operating', 'system', 'objectives', 'are', 'convenience', 'efficiency', 'and', 'ability', 'to', 'evolve']\n",
      "Convenience means to make the computer more convenient to use.\n",
      "\n",
      "['convenience', 'means', 'to', 'make', 'the', 'computer', 'more', 'convenient', 'to', 'use']\n",
      "Efficiency allows computer system resources to be used in an efficient manner\n",
      "\n",
      "['efficiency', 'allows', 'computer', 'system', 'resources', 'to', 'be', 'used', 'in', 'an', 'efficient', 'manner']\n",
      "Ability to evolve refers to permit effective development, testing, and introduction of new system functions without interfering with service\n",
      "\n",
      "['ability', 'to', 'evolve', 'refers', 'to', 'permit', 'effective', 'development', 'testing', 'and', 'introduction', 'of', 'new', 'system', 'functions', 'without', 'interfering', 'with', 'service']\n",
      "A program that is executed by the processor that frequently relinquishes control and must depend on the processor to regain control is operating system.\n",
      "\n",
      "['program', 'that', 'is', 'executed', 'by', 'the', 'processor', 'that', 'frequently', 'relinquishes', 'control', 'and', 'must', 'depend', 'on', 'the', 'processor', 'to', 'regain', 'control', 'is', 'operating', 'system']\n",
      "An operating system is a program that mediates between application programs and the hardware.\n",
      "\n",
      "['an', 'operating', 'system', 'is', 'program', 'that', 'mediates', 'between', 'application', 'programs', 'and', 'the', 'hardware']\n",
      "A set of procedures that enable a group of people to use a computer system is operating system.\n",
      "\n",
      "['set', 'of', 'procedures', 'that', 'enable', 'group', 'of', 'people', 'to', 'use', 'computer', 'system', 'is', 'operating', 'system']\n",
      "Operating system acts as intermediary between hardware and software.\n",
      "\n",
      "['operating', 'system', 'acts', 'as', 'intermediary', 'between', 'hardware', 'and', 'software']\n",
      "full form of OS is operating system.\n",
      "\n",
      "['full', 'form', 'of', 'os', 'is', 'operating', 'system']\n",
      "Operating system acts as an interface between user programs and computing resources.\n",
      "\n",
      "['operating', 'system', 'acts', 'as', 'an', 'interface', 'between', 'user', 'programs', 'and', 'computing', 'resources']\n",
      "The purpose of operating system is to provide an abstraction for execution of user programs from computer hardware.\n",
      "\n",
      "['the', 'purpose', 'of', 'operating', 'system', 'is', 'to', 'provide', 'an', 'abstraction', 'for', 'execution', 'of', 'user', 'programs', 'from', 'computer', 'hardware']\n",
      "OS is the most essential component of any computing environment.\n",
      "\n",
      "['os', 'is', 'the', 'most', 'essential', 'component', 'of', 'any', 'computing', 'environment']\n",
      "Operating system makes life fair, safe and easy. It prevents accidental and malicious damage by one program or the other.\n",
      "\n",
      "['operating', 'system', 'makes', 'life', 'fair', 'safe', 'and', 'easy', 'it', 'prevents', 'accidental', 'and', 'malicious', 'damage', 'by', 'one', 'program', 'or', 'the', 'other']\n",
      "A system which provides the interface between user and hardware.\n",
      "\n",
      "['system', 'which', 'provides', 'the', 'interface', 'between', 'user', 'and', 'hardware']\n",
      "Operating system is an interface between user and hardware of a computer system. It helps user to make computer system do several jobs like processing, communicating etc.\n",
      "\n",
      "['operating', 'system', 'is', 'an', 'interface', 'between', 'user', 'and', 'hardware', 'of', 'computer', 'system', 'it', 'helps', 'user', 'to', 'make', 'computer', 'system', 'do', 'several', 'jobs', 'like', 'processing', 'communicating', 'etc']\n",
      "Operating system is an interface between the user and the hardware. It is the system software some examples of OS are Linux, Unix, windows etc.\n",
      "\n",
      "['operating', 'system', 'is', 'an', 'interface', 'between', 'the', 'user', 'and', 'the', 'hardware', 'it', 'is', 'the', 'system', 'software', 'some', 'examples', 'of', 'os', 'are', 'linux', 'unix', 'windows', 'etc']\n",
      "An Operating system is an interface between the user and the computer hardware. It controls and coordinates between the different resources of the computer system. It abstract all the hardware details and it makes it convenient to use.\n",
      "\n",
      "['an', 'operating', 'system', 'is', 'an', 'interface', 'between', 'the', 'user', 'and', 'the', 'computer', 'hardware', 'it', 'controls', 'and', 'coordinates', 'between', 'the', 'different', 'resources', 'of', 'the', 'computer', 'system', 'it', 'abstract', 'all', 'the', 'hardware', 'details', 'and', 'it', 'makes', 'it', 'convenient', 'to', 'use']\n",
      "An operating system is a process in which there is interface between the user and the computer hardware. that is basically known as operating system.\n",
      "\n",
      "['an', 'operating', 'system', 'is', 'process', 'in', 'which', 'there', 'is', 'interface', 'between', 'the', 'user', 'and', 'the', 'computer', 'hardware', 'that', 'is', 'basically', 'known', 'as', 'operating', 'system']\n",
      "There are many types of operating system like ios phone operating system. Android has different operating systems and windows has different operating systems.\n",
      "\n",
      "['there', 'are', 'many', 'types', 'of', 'operating', 'system', 'like', 'ios', 'phone', 'operating', 'system', 'android', 'has', 'different', 'operating', 'systems', 'and', 'windows', 'has', 'different', 'operating', 'systems']\n",
      "An operating system Make the computer system convenient to use.\n",
      "\n",
      "['an', 'operating', 'system', 'make', 'the', 'computer', 'system', 'convenient', 'to', 'use']\n",
      "A process goes from running state to waiting/ready state due to the following two reasons. Interrupt occurs forcing the OS to stop execution of the current process. Process itself is waiting for an Input/output event to be completed.\n",
      "\n",
      "['process', 'goes', 'from', 'running', 'state', 'to', 'waiting', 'ready', 'state', 'due', 'to', 'the', 'following', 'two', 'reasons', 'interrupt', 'occurs', 'forcing', 'the', 'os', 'to', 'stop', 'execution', 'of', 'the', 'current', 'process', 'process', 'itself', 'is', 'waiting', 'for', 'an', 'input', 'output', 'event', 'to', 'be', 'completed']\n",
      "Input/Output intensive job means there are lot of input/output activities and there is lesser amount of computations to be done by the processor. Thus, processor will be under-utilized.\n",
      "\n",
      "['input', 'output', 'intensive', 'job', 'means', 'there', 'are', 'lot', 'of', 'input', 'output', 'activities', 'and', 'there', 'is', 'lesser', 'amount', 'of', 'computations', 'to', 'be', 'done', 'by', 'the', 'processor', 'thus', 'processor', 'will', 'be', 'under', 'utilized']\n",
      "the process is in ready state implies that process is allocated resources and is ready to be executed whenever processor is allocated to it.\n",
      "\n",
      "['the', 'process', 'is', 'in', 'ready', 'state', 'implies', 'that', 'process', 'is', 'allocated', 'resources', 'and', 'is', 'ready', 'to', 'be', 'executed', 'whenever', 'processor', 'is', 'allocated', 'to', 'it']\n",
      "Operating system helps to use the computer hardware in an efficient manner.\n",
      "\n",
      "['operating', 'system', 'helps', 'to', 'use', 'the', 'computer', 'hardware', 'in', 'an', 'efficient', 'manner']\n",
      "Operating system provides some basic utilities to assist programmer in creating programs, the management of files, and the control of Input/Output devices.\n",
      "\n",
      "['operating', 'system', 'provides', 'some', 'basic', 'utilities', 'to', 'assist', 'programmer', 'in', 'creating', 'programs', 'the', 'management', 'of', 'files', 'and', 'the', 'control', 'of', 'input', 'output', 'devices']\n",
      "Services Provided by Operating Systems facilities for program creation Editors, compilers, linkers, debuggers, etc. Program execution Loading in memory, I/O and file initialization. Access to I/O and files \n",
      "\n",
      "['services', 'provided', 'by', 'operating', 'systems', 'facilities', 'for', 'program', 'creation', 'editors', 'compilers', 'linkers', 'debuggers', 'etc', 'program', 'execution', 'loading', 'in', 'memory', 'and', 'file', 'initialization', 'access', 'to', 'and', 'files']\n",
      "Deals with the specifics of I/O and file formats. System access resolves conflicts for resource contention. protection in access to resources and data.\n",
      "\n",
      "['deals', 'with', 'the', 'specifics', 'of', 'and', 'file', 'formats', 'system', 'access', 'resolves', 'conflicts', 'for', 'resource', 'contention', 'protection', 'in', 'access', 'to', 'resources', 'and', 'data']\n",
      "Error detection and response internal and external hardware errors memory error device failure software errors arithmetic overflow\n",
      "\n",
      "['error', 'detection', 'and', 'response', 'internal', 'and', 'external', 'hardware', 'errors', 'memory', 'error', 'device', 'failure', 'software', 'errors', 'arithmetic', 'overflow']\n",
      "access forbidden memory locations operating system cannot grant request of application Accounting collect statistics monitor performance\n",
      "\n",
      "['access', 'forbidden', 'memory', 'locations', 'operating', 'system', 'cannot', 'grant', 'request', 'of', 'application', 'accounting', 'collect', 'statistics', 'monitor', 'performance']\n",
      "used to anticipate future enhancements used for billing users\n",
      "\n",
      "['used', 'to', 'anticipate', 'future', 'enhancements', 'used', 'for', 'billing', 'users']\n",
      "Batch processing implies that we sort similar kinds of jobs and batch those with similar needs to reduce unnecessary setup time. \n",
      "\n",
      "['batch', 'processing', 'implies', 'that', 'we', 'sort', 'similar', 'kinds', 'of', 'jobs', 'and', 'batch', 'those', 'with', 'similar', 'needs', 'to', 'reduce', 'unnecessary', 'setup', 'time']\n",
      "resident monitor provides \"automaticjob sequencing\". It interprets control cards to automatically run a bunch of programs without human intervention.\n",
      "\n",
      "['resident', 'monitor', 'provides', 'automaticjob', 'sequencing', 'it', 'interprets', 'control', 'cards', 'to', 'automatically', 'run', 'bunch', 'of', 'programs', 'without', 'human', 'intervention']\n",
      "The advantage of batch processing system is good utilization of machine and improved efficiency.\n",
      "\n",
      "['the', 'advantage', 'of', 'batch', 'processing', 'system', 'is', 'good', 'utilization', 'of', 'machine', 'and', 'improved', 'efficiency']\n",
      "The disadvantage of batch processing is offline mode orno interaction with the user, one job can disrupt the other jobs and thus needs security mechanism for protecting data andprograms from one another.\n",
      "\n",
      "['the', 'disadvantage', 'of', 'batch', 'processing', 'is', 'offline', 'mode', 'orno', 'interaction', 'with', 'the', 'user', 'one', 'job', 'can', 'disrupt', 'the', 'other', 'jobs', 'and', 'thus', 'needs', 'security', 'mechanism', 'for', 'protecting', 'data', 'andprograms', 'from', 'one', 'another']\n",
      "Time sharing systems are considered logical extension of multiprogramming systems. In case of time sharing sytems, multiple users share the system simultaneously. Each user is given the impression that he is the sole user and all his processes are under execution.\n",
      "\n",
      "['time', 'sharing', 'systems', 'are', 'considered', 'logical', 'extension', 'of', 'systems', 'in', 'case', 'of', 'time', 'sharing', 'sytems', 'multiple', 'users', 'share', 'the', 'system', 'simultaneously', 'each', 'user', 'is', 'given', 'the', 'impression', 'that', 'he', 'is', 'the', 'sole', 'user', 'and', 'all', 'his', 'processes', 'are', 'under', 'execution']\n",
      "The advantage of timesharing system is interactivity or interaction and resource sharing.\n",
      "\n",
      "['the', 'advantage', 'of', 'timesharing', 'system', 'is', 'interactivity', 'or', 'interaction', 'and', 'resource', 'sharing']\n",
      "The disadvantage of time sharing systems are delayed response times i.e. at times delay in reponse time is not reasonable.\n",
      "\n",
      "['the', 'disadvantage', 'of', 'time', 'sharing', 'systems', 'are', 'delayed', 'response', 'times', 'at', 'times', 'delay', 'in', 'reponse', 'time', 'is', 'not', 'reasonable']\n",
      "System calls provide mechanism by which user process can invoke operating system services.\n",
      "\n",
      "['system', 'calls', 'provide', 'mechanism', 'by', 'which', 'user', 'process', 'can', 'invoke', 'operating', 'system', 'services']\n",
      "System calls are often implemented using traps. Operating system gains control through traps, switches from user mode to kernel mode, perfroms the desired service, switches back to user mode and hands over control to the user program\n",
      "\n",
      "['system', 'calls', 'are', 'often', 'implemented', 'using', 'traps', 'operating', 'system', 'gains', 'control', 'through', 'traps', 'switches', 'from', 'user', 'mode', 'to', 'kernel', 'mode', 'perfroms', 'the', 'desired', 'service', 'switches', 'back', 'to', 'user', 'mode', 'and', 'hands', 'over', 'control', 'to', 'the', 'user', 'program']\n",
      "Processor executes instruction in two modes - user mode and kernel mode. User mode can execute normal instructions and access only user memory i.e. user data and instruction space.\n",
      "\n",
      "['processor', 'executes', 'instruction', 'in', 'two', 'modes', 'user', 'mode', 'and', 'kernel', 'mode', 'user', 'mode', 'can', 'execute', 'normal', 'instructions', 'and', 'access', 'only', 'user', 'memory', 'user', 'data', 'and', 'instruction', 'space']\n",
      "Kernel mode is also known as the supervisor mode. In kernel mode, processor can also execute privilidged instructions and have full access to memory.\n",
      "\n",
      "['kernel', 'mode', 'is', 'also', 'known', 'as', 'the', 'supervisor', 'mode', 'in', 'kernel', 'mode', 'processor', 'can', 'also', 'execute', 'privilidged', 'instructions', 'and', 'have', 'full', 'access', 'to', 'memory']\n",
      "System calls are required because user program cannot execute privilidged instructions such as creating a file physically on the hard disk or accessing any hardware device directly.\n",
      "\n",
      "['system', 'calls', 'are', 'required', 'because', 'user', 'program', 'cannot', 'execute', 'privilidged', 'instructions', 'such', 'as', 'creating', 'file', 'physically', 'on', 'the', 'hard', 'disk', 'or', 'accessing', 'any', 'hardware', 'device', 'directly']\n",
      "A process is a program in execution. A process needs certain resources, including CPU time, memory, files, and I/O devices, to accomplish its task.\n",
      "\n",
      "['process', 'is', 'program', 'in', 'execution', 'process', 'needs', 'certain', 'resources', 'including', 'cpu', 'time', 'memory', 'files', 'and', 'devices', 'to', 'accomplish', 'its', 'task']\n",
      "The operating system is responsible for the following activities in connection with process management.\n",
      "\n",
      "['the', 'operating', 'system', 'is', 'responsible', 'for', 'the', 'following', 'activities', 'in', 'connection', 'with', 'process', 'management']\n",
      "The first being process creation and deletion, and secondly process suspension and resumption.\n",
      "\n",
      "['the', 'first', 'being', 'process', 'creation', 'and', 'deletion', 'and', 'secondly', 'process', 'suspension', 'and', 'resumption']\n",
      "operating system provides mechanisms for process synchronization and process communication.\n",
      "\n",
      "['operating', 'system', 'provides', 'mechanisms', 'for', 'process', 'synchronization', 'and', 'process', 'communication']\n",
      "Operating system interface between the user and the hardware. it abstract all the hardware detail. it is a resource allocator.\n",
      "\n",
      "['operating', 'system', 'interface', 'between', 'the', 'user', 'and', 'the', 'hardware', 'it', 'abstract', 'all', 'the', 'hardware', 'detail', 'it', 'is', 'resource', 'allocator']\n",
      "Operating system is a software that help to interact between user and hardware. It really execute many task at a single time. OS have many features like multiprocessing, multitasking, threads etc.\n",
      "\n",
      "['operating', 'system', 'is', 'software', 'that', 'help', 'to', 'interact', 'between', 'user', 'and', 'hardware', 'it', 'really', 'execute', 'many', 'task', 'at', 'single', 'time', 'os', 'have', 'many', 'features', 'like', 'multiprocessing', 'multitasking', 'threads', 'etc']\n",
      "Operating system is interface between user and hardware.\n",
      "\n",
      "['operating', 'system', 'is', 'interface', 'between', 'user', 'and', 'hardware']\n",
      "An operating system interface between applications and computer hardware first application interface with operating system interface with hardware its all processes called operating system.\n",
      "\n",
      "['an', 'operating', 'system', 'interface', 'between', 'applications', 'and', 'computer', 'hardware', 'first', 'application', 'interface', 'with', 'operating', 'system', 'interface', 'with', 'hardware', 'its', 'all', 'processes', 'called', 'operating', 'system']\n",
      "An operating system does everything from start when we switch on computer to the time we shut down.\n",
      "\n",
      "['an', 'operating', 'system', 'does', 'everything', 'from', 'start', 'when', 'we', 'switch', 'on', 'computer', 'to', 'the', 'time', 'we', 'shut', 'down']\n",
      "An operating system is a collection of software enhancements, executed on the bare hardware, culminating in a high-level virtual machine that serves as an advanced programming environment.\n",
      "\n",
      "['an', 'operating', 'system', 'is', 'collection', 'of', 'software', 'enhancements', 'executed', 'on', 'the', 'bare', 'hardware', 'culminating', 'in', 'high', 'level', 'virtual', 'machine', 'that', 'serves', 'as', 'an', 'advanced', 'programming', 'environment']\n",
      "operating system is a program that controls the execution of application programs\n",
      "\n",
      "['operating', 'system', 'is', 'program', 'that', 'controls', 'the', 'execution', 'of', 'application', 'programs']\n",
      "Computer hardware is developed to execute user programs and make solving user problems easier.\n",
      "\n",
      "['computer', 'hardware', 'is', 'developed', 'to', 'execute', 'user', 'programs', 'and', 'make', 'solving', 'user', 'problems', 'easier']\n",
      "An operating system makes the computer convenient to use.\n",
      "\n",
      "['an', 'operating', 'system', 'makes', 'the', 'computer', 'convenient', 'to', 'use']\n"
     ]
    }
   ],
   "source": [
    "sentences = []\n",
    "os.chdir(\"C:\\\\NIDHI\\\\BITS\\\\exp\")\n",
    "with open('os_notes.txt') as f:\n",
    "    for line in f:\n",
    "        print(line)\n",
    "        tokens = gensim.utils.simple_preprocess(line)\n",
    "        print(tokens)\n",
    "        sentences.append(tokens)"
   ]
  },
  {
   "cell_type": "markdown",
   "metadata": {},
   "source": [
    "Training the word2vec model...."
   ]
  },
  {
   "cell_type": "code",
   "execution_count": 7,
   "metadata": {},
   "outputs": [
    {
     "name": "stdout",
     "output_type": "stream",
     "text": [
      "394\n"
     ]
    }
   ],
   "source": [
    "w2v_model = Word2Vec(sentences,min_count=1)\n",
    "nbwords = len(w2v_model.wv.index2word)\n",
    "print(nbwords)\n",
    "# the syn0 weight matrix in gensim corresponds to the Embedding matrix in Keras. \n",
    "# Importing the matrix directly and n ot trainig these weights as part of NN parameter training\n",
    "weightMatrix = w2v_model.wv.syn0\n",
    "vocab = dict([(k,w.index) for k,w in w2v_model.wv.vocab.items()])"
   ]
  },
  {
   "cell_type": "markdown",
   "metadata": {},
   "source": [
    "Embedding matrix contains 394 words and each vector is of dim 100. Therefore size of weightMatrix is 290*100. We will use this w2v trained weight matrix as an input to the embedding layer of the NN"
   ]
  },
  {
   "cell_type": "code",
   "execution_count": 8,
   "metadata": {},
   "outputs": [
    {
     "data": {
      "text/plain": [
       "(395, 100)"
      ]
     },
     "execution_count": 8,
     "metadata": {},
     "output_type": "execute_result"
    }
   ],
   "source": [
    "# Vertically stacking padding layer or mask layer with all zeros in the weightMatrix\n",
    "weightMatrixWithPadding = np.vstack([np.zeros(EMBEDDING_DIM),weightMatrix])\n",
    "weightMatrixWithPadding.shape"
   ]
  },
  {
   "cell_type": "markdown",
   "metadata": {},
   "source": [
    "Preparing the y vector using cosine similarity measure between modal answer and student answer. We will use y = 1 if cosine similarity returns more than 0.5 else y = 0. This helps to train the neural network for answers that are similar to the modal answer."
   ]
  },
  {
   "cell_type": "code",
   "execution_count": 18,
   "metadata": {
    "collapsed": true
   },
   "outputs": [],
   "source": [
    "# defining a function to make the two sentence vectors of equal length i.e. padding faculty given\n",
    "# modal answer/ student answer to make them of equal length\n",
    "\n",
    "# obtaining vector embeddings for a given word using word2vec model defined above\n",
    "def getWord2Vec(model,q):\n",
    "    sentenceVector = []\n",
    "    tokens = gensim.utils.simple_preprocess(q)\n",
    "    lengthSent = (len(tokens))\n",
    "    ##find its length and pad with arb token toreach max_Sent_length for uniformity\n",
    "    for word in tokens:\n",
    "        #print (word)\n",
    "        try:\n",
    "            wordVec = model[word]\n",
    "            #print (wordVec)\n",
    "        except:\n",
    "            continue\n",
    "        if not np.isnan(np.sum(wordVec)):\n",
    "            sentenceVector.append(wordVec)\n",
    "    if not sentenceVector:\n",
    "        print(\"returning vector of zeros...\")\n",
    "        return np.zeros(EMBEDDING_DIM)\n",
    "    #paddingEqualWidthSentence(sentenceVector,MAX_SENTENCE_LENGTH-lengthSent)\n",
    "    sentenceVector = np.array(sentenceVector)\n",
    "    return sentenceVector.mean(axis=0)\n",
    "\n",
    "# computing cosine similarity between two given vectors\n",
    "def similarity(v1,v2):\n",
    "        #print (v1)\n",
    "        #print (v2)\n",
    "        angles = (np.dot(v1,v2)/(norm(v1,2)*norm(v2,2)))\n",
    "        #print (\"angles : \",angles)\n",
    "        return angles\n"
   ]
  },
  {
   "cell_type": "markdown",
   "metadata": {},
   "source": [
    "Defining the modal answer and obtaining its w2v embedding ..."
   ]
  },
  {
   "cell_type": "code",
   "execution_count": 19,
   "metadata": {},
   "outputs": [
    {
     "data": {
      "text/plain": [
       "(100,)"
      ]
     },
     "execution_count": 19,
     "metadata": {},
     "output_type": "execute_result"
    }
   ],
   "source": [
    "modal_ans = \"An operating system acts as an interface between the user and computer hardware. Operating system controls and coordinates the use of computing resources among the various application programs. Some examples of operating systems are windows, linux, unix, android and ios.\"\n",
    "re.sub('operating system','',modal_ans)\n",
    "#re.sub('system','',modal_ans)\n",
    "ansvector = getWord2Vec(w2v_model,modal_ans)\n",
    "ansvector.shape"
   ]
  },
  {
   "cell_type": "code",
   "execution_count": 20,
   "metadata": {},
   "outputs": [
    {
     "data": {
      "text/plain": [
       "0.99999994"
      ]
     },
     "execution_count": 20,
     "metadata": {},
     "output_type": "execute_result"
    }
   ],
   "source": [
    "st_ans = \"An operating system acts as an interface between the user and computer hardware. Operating system controls and coordinates the use of computing resources among the various application programs. Some examples of operating systems are windows, linux, unix, android and ios.\"\n",
    "re.sub('operating system','',st_ans)\n",
    "#re.sub('system','',st_ans)\n",
    "stvector = getWord2Vec(w2v_model,st_ans)\n",
    "np.array_equal(ansvector, stvector)\n",
    "similarity(ansvector,stvector)"
   ]
  },
  {
   "cell_type": "markdown",
   "metadata": {},
   "source": [
    "Computing similarity scores or the desired outcome y for training..."
   ]
  },
  {
   "cell_type": "code",
   "execution_count": 21,
   "metadata": {},
   "outputs": [
    {
     "name": "stdout",
     "output_type": "stream",
     "text": [
      "Operating system acts as intermediary between hardware and software.\n",
      "\n",
      "(100,)\n",
      "0.905177\n",
      "full form of OS is operating system.\n",
      "\n",
      "(100,)\n",
      "0.876677\n",
      "Operating system acts as an interface between user programs and computing resources.\n",
      "\n",
      "(100,)\n",
      "0.918759\n",
      "The purpose of operating system is to provide an abstraction for execution of user programs from computer hardware.\n",
      "\n",
      "(100,)\n",
      "0.947035\n",
      "OS is the most essential component of any computing environment.\n",
      "\n",
      "(100,)\n",
      "0.827449\n",
      "A system which provides the interface between user and hardware.\n",
      "\n",
      "(100,)\n",
      "0.918943\n",
      "the operating system are interface user and hardware are known as the operating system.\n",
      "\n",
      "(100,)\n",
      "0.960316\n",
      "Operating system is an interface between user and hardware.\n",
      "\n",
      "(100,)\n",
      "0.918698\n",
      "Operating system is an interface between user and hardware of a computer system. It helps user to make computer system do several jobs like processing, communicating etc.\n",
      "\n",
      "(100,)\n",
      "0.942837\n",
      "Operating system is an interface between the user and the hardware. It is the system software some examples of OS are Linux, Unix, windows etc.\n",
      "\n",
      "(100,)\n",
      "0.972209\n",
      "An Operating system is an interface between the user and the computer hardware. It controls and coordinates between the different resources of the computer system. It abstract all the hardware details and it makes it convenient to use.\n",
      "\n",
      "(100,)\n",
      "0.959461\n",
      "An operating system is a process in which there is interface between the user and the computer hardware. that is basically known as operating system.\n",
      "\n",
      "(100,)\n",
      "0.955878\n",
      "There are many types of operating system like ios phone operating system. Android has different operating systems and windows has different operating systems.\n",
      "\n",
      "(100,)\n",
      "0.901942\n",
      "An operating system Make the computer system convenient to use.\n",
      "\n",
      "(100,)\n",
      "0.9303\n",
      "Operating system helps to use the computer hardware in an efficient manner.\n",
      "\n",
      "(100,)\n",
      "0.939492\n",
      "Operating system interface between the user and the hardware. it abstract all the hardware detail. it is a resource allocator.\n",
      "\n",
      "(100,)\n",
      "0.9374\n",
      "no answer\n",
      "\n",
      "returning vector of zeros...\n",
      "(100,)\n",
      "nan\n",
      "Operating system is a software that help to interact between user and hardware. It really execute many task at a single time. OS have many features like multiprocessing, multitasking, threads etc.\n",
      "\n",
      "(100,)\n",
      "0.92612\n",
      "Operating system is interface between user and hardware.\n",
      "\n",
      "(100,)\n",
      "0.923106\n",
      "Operating system is a process in which their is interface between user and computer hardware. That is basically known as operating system. There are many types of operating system like ios iphone, andriod and windows.\n",
      "\n",
      "(100,)\n",
      "0.953975\n",
      "An operating system interface between applications and computer hardware first application interface with operating system interface with hardware its all processes called operating system.\n",
      "\n",
      "(100,)\n",
      "0.941207\n",
      "An operating system does everything from start when we switch on computer to the time we shut down.\n",
      "\n",
      "(100,)\n",
      "0.89453\n",
      "no answer\n",
      "\n",
      "returning vector of zeros...\n",
      "(100,)\n",
      "nan\n",
      "an operating system is system operating the computer.everything operate by computer is because of operating system\n",
      "\n",
      "(100,)\n",
      "0.934569\n",
      "operating system controls and coordinates the activities of a computer system.\n",
      "(100,)\n",
      "0.956371\n"
     ]
    },
    {
     "name": "stderr",
     "output_type": "stream",
     "text": [
      "C:\\Users\\nidhi1\\Anaconda3\\lib\\site-packages\\ipykernel_launcher.py:30: RuntimeWarning: invalid value encountered in double_scalars\n"
     ]
    }
   ],
   "source": [
    "cosineSim_Score = np.zeros(shape=(BATCH_SIZE,))\n",
    "#embedding_matrix = np.zeros(shape=(NUM_ANS,EMBEDDING_DIM))\n",
    "student_answers = []\n",
    "student_answer_vector = []\n",
    "i=0\n",
    "with open('midSem.txt') as f:\n",
    "    for studans in f:\n",
    "        print(studans)\n",
    "        studansvector = getWord2Vec(w2v_model,studans)\n",
    "        print(studansvector.shape)\n",
    "        #student_answers.append(studans)\n",
    "        score = similarity(ansvector,studansvector)\n",
    "        print(score)\n",
    "        if score>0.05:\n",
    "            cosineSim_Score[i] = 1\n",
    "        else:\n",
    "            cosineSim_Score[i] = 0 \n",
    "        student_answers.insert(i,studans)\n",
    "        student_answer_vector.insert(i,studansvector)\n",
    "        i = i+1\n",
    "        # print(studans)\n",
    "        # print(rank)"
   ]
  },
  {
   "cell_type": "code",
   "execution_count": null,
   "metadata": {
    "collapsed": true
   },
   "outputs": [],
   "source": [
    "print(cosineSim_Score)"
   ]
  },
  {
   "cell_type": "code",
   "execution_count": null,
   "metadata": {
    "collapsed": true
   },
   "outputs": [],
   "source": [
    "# setting up correct cosine similarity measures\n",
    "cosineSim_Score[0] = 1\n",
    "cosineSim_Score[2] = 1\n",
    "cosineSim_Score[3] = 1\n",
    "cosineSim_Score[4] = 0\n",
    "cosineSim_Score[5] = 0\n",
    "cosineSim_Score[6] = 0\n",
    "cosineSim_Score[7] = 0\n",
    "cosineSim_Score[8] = 1\n",
    "cosineSim_Score[9] = 1\n",
    "cosineSim_Score[10] = 0\n",
    "cosineSim_Score[11] = 0\n",
    "cosineSim_Score[12] = 0\n",
    "cosineSim_Score[13] = 0\n",
    "cosineSim_Score[14] = 1\n",
    "cosineSim_Score[15] = 1\n",
    "cosineSim_Score[16] = 1\n",
    "cosineSim_Score[17] = 0\n",
    "cosineSim_Score[18] = 0\n",
    "cosineSim_Score[19] = 0"
   ]
  },
  {
   "cell_type": "markdown",
   "metadata": {},
   "source": [
    "Importing Keras libraries for defining the Siamese arch based LSTM NN"
   ]
  },
  {
   "cell_type": "code",
   "execution_count": null,
   "metadata": {
    "collapsed": true
   },
   "outputs": [],
   "source": [
    "from keras.layers import Embedding, Input, Dot, Dense, LSTM, Dropout, Activation\n",
    "from keras.models import Model\n",
    "from keras import backend as K\n",
    "from keras.preprocessing import sequence, text"
   ]
  },
  {
   "cell_type": "code",
   "execution_count": null,
   "metadata": {
    "collapsed": true
   },
   "outputs": [],
   "source": [
    "input_seq_modal_ans = Input(shape=(60,))\n",
    "input_seq_modal_ans.shape"
   ]
  },
  {
   "cell_type": "code",
   "execution_count": null,
   "metadata": {
    "collapsed": true
   },
   "outputs": [],
   "source": [
    "embedding_modal_ans = Embedding(nbwords+1, EMBEDDING_DIM, weights=[weightMatrixWithPadding], mask_zero=True, trainable=False)(input_seq_modal_ans)"
   ]
  },
  {
   "cell_type": "code",
   "execution_count": null,
   "metadata": {
    "collapsed": true
   },
   "outputs": [],
   "source": [
    "type(embedding_modal_ans)\n",
    "embedding_modal_ans.shape"
   ]
  },
  {
   "cell_type": "code",
   "execution_count": null,
   "metadata": {
    "collapsed": true
   },
   "outputs": [],
   "source": [
    "lstm_output_modal_ans = LSTM(MAX_SENTENCE_LENGTH, return_sequences=False, name='modal_ans_lstm')(embedding_modal_ans)"
   ]
  },
  {
   "cell_type": "code",
   "execution_count": null,
   "metadata": {
    "collapsed": true
   },
   "outputs": [],
   "source": [
    "lstm_output_modal_ans.shape"
   ]
  },
  {
   "cell_type": "markdown",
   "metadata": {},
   "source": [
    "Preparing model input for student answer"
   ]
  },
  {
   "cell_type": "code",
   "execution_count": null,
   "metadata": {
    "collapsed": true
   },
   "outputs": [],
   "source": [
    "input_seq_stud_ans = Input(shape=(60,))\n",
    "embedding_stud_ans = Embedding(nbwords+1, EMBEDDING_DIM, weights=[weightMatrixWithPadding], mask_zero=True, trainable=True)(input_seq_stud_ans)\n",
    "lstm_output_stud_ans = LSTM(MAX_SENTENCE_LENGTH, return_sequences=False, name='stud_ans_lstm')(embedding_stud_ans)"
   ]
  },
  {
   "cell_type": "markdown",
   "metadata": {},
   "source": [
    "Merging the lstm layer output for student answer and modal answer using cosine similarity measure which is available using the DOT merge function"
   ]
  },
  {
   "cell_type": "code",
   "execution_count": null,
   "metadata": {
    "collapsed": true
   },
   "outputs": [],
   "source": [
    "merge_lstms = Dot(axes=1)([lstm_output_modal_ans,lstm_output_stud_ans])\n",
    "type(merge_lstms)\n",
    "merge_lstms.shape"
   ]
  },
  {
   "cell_type": "code",
   "execution_count": null,
   "metadata": {
    "collapsed": true
   },
   "outputs": [],
   "source": [
    "predictions = Dense(1, activation = 'sigmoid')(merge_lstms)\n",
    "# defining the modalfor last network layer that computes Logistic Regression\n",
    "finalModel = Model(inputs = [input_seq_modal_ans, input_seq_stud_ans], output=predictions)"
   ]
  },
  {
   "cell_type": "code",
   "execution_count": null,
   "metadata": {
    "collapsed": true
   },
   "outputs": [],
   "source": [
    "# Compiling the model\n",
    "finalModel.compile(loss='mean_squared_error', optimizer='adam',metrics=['accuracy'])"
   ]
  },
  {
   "cell_type": "markdown",
   "metadata": {},
   "source": [
    "Prepare input data in desired format...."
   ]
  },
  {
   "cell_type": "markdown",
   "metadata": {},
   "source": [
    "Defining a function to convert text into sequence of numbers as is the requirement of EMbedding layer..."
   ]
  },
  {
   "cell_type": "code",
   "execution_count": null,
   "metadata": {
    "collapsed": true
   },
   "outputs": [],
   "source": [
    "def pad_sequences(sequence):\n",
    "    dim = 60\n",
    "    length = len(sequence)\n",
    "    newseq = []\n",
    "    count = dim-length\n",
    "    for i in range(count):\n",
    "        newseq.append('0')\n",
    "        \n",
    "    # we need to append dim-len zeros and then concatenate with sequence (input)\n",
    "    newseq = sum([newseq,sequence],[])\n",
    "    return newseq"
   ]
  },
  {
   "cell_type": "code",
   "execution_count": null,
   "metadata": {
    "collapsed": true
   },
   "outputs": [],
   "source": [
    "def text_to_sequence(string):\n",
    "    seq = [] # np.array(np.zeros(MAX_SENTENCE_LENGTH))\n",
    "   # if(string==\"\"):\n",
    "    \n",
    "    #print(\"Function expects a string paramater. Please provide one\")\n",
    "    #else:\n",
    "    s = string.lower().split(\" \")\n",
    "    for word in s:\n",
    "        if word in vocab:\n",
    "            seq.append(vocab[word])\n",
    "                \n",
    "    fseq = pad_sequences(seq)\n",
    "    return fseq       "
   ]
  },
  {
   "cell_type": "code",
   "execution_count": null,
   "metadata": {
    "collapsed": true
   },
   "outputs": [],
   "source": [
    "res = text_to_sequence(\"An operating system is an interface\")"
   ]
  },
  {
   "cell_type": "code",
   "execution_count": null,
   "metadata": {
    "collapsed": true
   },
   "outputs": [],
   "source": [
    "# res"
   ]
  },
  {
   "cell_type": "code",
   "execution_count": null,
   "metadata": {
    "collapsed": true
   },
   "outputs": [],
   "source": [
    "right_input = np.zeros(shape=(BATCH_SIZE, MAX_SENTENCE_LENGTH))\n",
    "for i in range(BATCH_SIZE):\n",
    "    res = text_to_sequence(student_answers[i])\n",
    "    right_input[i] = res\n",
    "  \n",
    "\n",
    "    "
   ]
  },
  {
   "cell_type": "code",
   "execution_count": null,
   "metadata": {
    "collapsed": true
   },
   "outputs": [],
   "source": [
    "left_input = np.zeros(shape=(BATCH_SIZE, MAX_SENTENCE_LENGTH))\n",
    "x_left = text_to_sequence(modal_ans)\n",
    "for i in range(BATCH_SIZE):\n",
    "    left_input[i] = x_left\n"
   ]
  },
  {
   "cell_type": "code",
   "execution_count": null,
   "metadata": {
    "collapsed": true
   },
   "outputs": [],
   "source": [
    "# verbose: 0 for no logging to stdout, 1 for progress bar logging, 2 for one log line per epoch.\n",
    "# "
   ]
  },
  {
   "cell_type": "code",
   "execution_count": null,
   "metadata": {
    "collapsed": true
   },
   "outputs": [],
   "source": [
    "finalModel.fit([left_input,right_input], y=cosineSim_Score, epochs=50, batch_size=BATCH_SIZE, verbose=2, validation_split=0.2)"
   ]
  },
  {
   "cell_type": "code",
   "execution_count": null,
   "metadata": {
    "collapsed": true
   },
   "outputs": [],
   "source": [
    "sans = \"a software is an interface between operating system and hardware\"\n",
    "seq_sans = np.array([text_to_sequence(sans)])\n",
    "#seq_sans.reshape(MAX_SENTENCE_LENGTH,)"
   ]
  },
  {
   "cell_type": "code",
   "execution_count": null,
   "metadata": {
    "collapsed": true
   },
   "outputs": [],
   "source": [
    "print(seq_sans.shape)\n",
    "modal_ans_seq = np.array([x_left]) #.reshape(MAX_SENTENCE_LENGTH,)\n"
   ]
  },
  {
   "cell_type": "code",
   "execution_count": null,
   "metadata": {
    "collapsed": true
   },
   "outputs": [],
   "source": [
    "score = finalModel.predict(x=[modal_ans_seq,seq_sans], batch_size=1,verbose=1)"
   ]
  },
  {
   "cell_type": "code",
   "execution_count": null,
   "metadata": {
    "collapsed": true
   },
   "outputs": [],
   "source": [
    "sans2 = \"a process is program under execution\"\n",
    "seq_sans2 = np.array([text_to_sequence(sans2)])"
   ]
  },
  {
   "cell_type": "code",
   "execution_count": null,
   "metadata": {
    "collapsed": true
   },
   "outputs": [],
   "source": [
    "score = finalModel.predict(x=[modal_ans_seq,seq_sans2], batch_size=1,verbose=1)"
   ]
  },
  {
   "cell_type": "code",
   "execution_count": null,
   "metadata": {
    "collapsed": true
   },
   "outputs": [],
   "source": []
  }
 ],
 "metadata": {
  "kernelspec": {
   "display_name": "Python 3",
   "language": "python",
   "name": "python3"
  },
  "language_info": {
   "codemirror_mode": {
    "name": "ipython",
    "version": 3
   },
   "file_extension": ".py",
   "mimetype": "text/x-python",
   "name": "python",
   "nbconvert_exporter": "python",
   "pygments_lexer": "ipython3",
   "version": "3.6.2"
  }
 },
 "nbformat": 4,
 "nbformat_minor": 2
}
